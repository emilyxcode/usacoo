{
 "cells": [
  {
   "cell_type": "code",
   "execution_count": 4,
   "metadata": {},
   "outputs": [
    {
     "name": "stdout",
     "output_type": "stream",
     "text": [
      "dave 302\n",
      "\n",
      "laura 66\n",
      "\n",
      "owen -359\n",
      "\n",
      "vick 141\n",
      "\n",
      "amr -150\n",
      "\n"
     ]
    }
   ],
   "source": [
    "def getRemainingAfterGiving(money, peopleNum):\n",
    "    return money % peopleNum\n",
    "\n",
    "def getGivingForEachPeople(money, peopleNum):\n",
    "    return money // peopleNum\n",
    "\n",
    "with open(\"gift1.in\", \"r\") as fIn:\n",
    "    lines = fIn.read().splitlines()\n",
    "\n",
    "np = int(lines[0])\n",
    "people = {}\n",
    "\n",
    "for i in range(1, np + 1):\n",
    "    name = lines[i]\n",
    "    people[name] = 0\n",
    "\n",
    "curLine = np + 1\n",
    "while curLine < len(lines):\n",
    "    giver = lines[curLine]\n",
    "    curLine = curLine + 1\n",
    "    money, peopleNum = map(int, lines[curLine].split())\n",
    "    if peopleNum == 0:\n",
    "        curLine += 1\n",
    "        continue\n",
    "    people[giver] -= money\n",
    "    people[giver] += getRemainingAfterGiving(money, peopleNum)\n",
    "    #strMoney, strPeopleNum = lines[curLine].split()\n",
    "    #money = int(strMoney)\n",
    "    #peopleNum = int(strPeopleNum)\n",
    "    curLine += 1\n",
    "    for i in range( peopleNum):\n",
    "        receiver = lines[curLine]\n",
    "        people[receiver] += getGivingForEachPeople(money, peopleNum)\n",
    "        curLine += 1\n",
    "        \n",
    "\n",
    "for name, money in people.items():\n",
    "    #fOut.write(name + \" \" + str(money) + \"\\n\")\n",
    "    print(f'{name} {money}\\n')\n",
    "\n"
   ]
  },
  {
   "cell_type": "markdown",
   "metadata": {},
   "source": []
  },
  {
   "cell_type": "markdown",
   "metadata": {},
   "source": [
    "Simulate the process"
   ]
  }
 ],
 "metadata": {
  "kernelspec": {
   "display_name": "Python 3",
   "language": "python",
   "name": "python3"
  },
  "language_info": {
   "codemirror_mode": {
    "name": "ipython",
    "version": 3
   },
   "file_extension": ".py",
   "mimetype": "text/x-python",
   "name": "python",
   "nbconvert_exporter": "python",
   "pygments_lexer": "ipython3",
   "version": "3.11.1"
  }
 },
 "nbformat": 4,
 "nbformat_minor": 2
}
