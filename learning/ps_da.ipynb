{
 "cells": [
  {
   "cell_type": "code",
   "execution_count": 16,
   "metadata": {},
   "outputs": [
    {
     "data": {
      "text/plain": [
       "(3, 5, 34, 6, -2, 11, 49, 6, 84, 0, 1)"
      ]
     },
     "execution_count": 16,
     "metadata": {},
     "output_type": "execute_result"
    }
   ],
   "source": [
    "\"\"\"\n",
    "\n",
    "Given an array of [3, 5, 34, 6, -2, 11, 49, 6, 84, 0, 1]\n",
    "\n",
    "Find the sum from the 3rd element to the 7th element.\n",
    "Find the sum from the 5th element to the 10th element.\n",
    "Find the sum from the 0th element to the 10th element.\n",
    "... and so on.\n",
    "\n",
    "\"\"\""
   ]
  },
  {
   "cell_type": "markdown",
   "metadata": {},
   "source": [
    "### Problems\n",
    "\n",
    "* https://leetcode.com/problems/find-pivot-index/description/\n",
    "* https://leetcode.com/problems/subarray-sum-equals-k/description/\n",
    "* https://leetcode.com/problems/corporate-flight-bookings/\n",
    "* https://usaco.org/index.php?page=viewproblem2&cpid=572"
   ]
  },
  {
   "cell_type": "code",
   "execution_count": 15,
   "metadata": {},
   "outputs": [
    {
     "name": "stdout",
     "output_type": "stream",
     "text": [
      "[0, 3, 8, 42, 48, 46, 57, 61, 67, 75, 75, 76]\n",
      "25\n",
      "25\n"
     ]
    }
   ],
   "source": [
    "arr =     [3, 5, 34, 6, -2, 11, 4, 6, 8, 0, 1]\n",
    "arr2 = [0, 3, 8, 42, 48, 46, 57, 61, 67, 75, 75, 76]\n",
    "\n",
    "arr2[7] - arr2[2]\n",
    "arr2[9] - arr2[3]\n",
    "# Find sum of range a to b, we can do arr2[b + 1] - arr2[a]\n",
    "# prefix sum\n",
    "# how to get the prefix sum array?\n",
    "preSum = [0] * (len(arr) + 1) \n",
    "for i in range(len(arr)):\n",
    "    preSum[i + 1] = preSum[i] + arr[i]\n",
    "\n",
    "print(preSum)\n",
    "print(preSum[8] - preSum[3])\n",
    "\n",
    "def sumRange(arr, start, end):\n",
    "    sum = 0\n",
    "    for i in range(start, end + 1):\n",
    "        sum += arr[i]\n",
    "    return sum\n",
    "              \n",
    "\n",
    "print(sumRange(arr, 3, 7))"
   ]
  },
  {
   "cell_type": "code",
   "execution_count": 1,
   "metadata": {},
   "outputs": [
    {
     "data": {
      "text/plain": [
       "'\\n\\nGiven an array of [3, 5, 34, 6, -2, 11, 49, 6, 84, 0, 1]\\n\\nAdd 3 from the 3rd element to the 7th element.\\nAdd 5 from the 4th element to the 5th element.\\nSubtract 2 from the 0th element to the 10th element.\\n... and so on.\\n\\n\\n'"
      ]
     },
     "execution_count": 1,
     "metadata": {},
     "output_type": "execute_result"
    }
   ],
   "source": [
    "\"\"\"\n",
    "\n",
    "Given an array of a = [1, 3, 2, 6, 8, 7, 9, 0, 3, 7, 4]\n",
    "\n",
    "Add 3 from the 3rd element till the 7th element. [1, 3, 2, 9, 11, 10, 12, 3, 3, 7, 4]\n",
    "Add 5 from the 4th element till the 5th element. [1, 3, 2, 9, 16, 15, 12, 3, 3, 7, 4]\n",
    "Subtract 2 from the 0th element till the 10th element. [-1, 1, 0, 7, 1\\4, 13, 10, 1, 1, 5, 2]\n",
    "\n",
    "Print the current result of a\n",
    "\n",
    "\"\"\""
   ]
  },
  {
   "cell_type": "code",
   "execution_count": 6,
   "metadata": {},
   "outputs": [
    {
     "name": "stdout",
     "output_type": "stream",
     "text": [
      "[-1, 1, 0, 7, 14, 13, 10, 1, 1, 5, 2]\n"
     ]
    }
   ],
   "source": [
    "a =       [1, 3,  2,  6, 8,  7,  9,  0, 3, 7,  4]\n",
    "\n",
    "da = [0] * (len(a) + 1)\n",
    "da[0] = a[0]\n",
    "\n",
    "for i in range(1, len(a)):\n",
    "    da[i] = a[i] - a[i - 1]\n",
    "\n",
    "da[3] += 3\n",
    "da[8] -=3\n",
    "\n",
    "da[4] += 5\n",
    "da[6] -= 5\n",
    "\n",
    "da[0] += (-2)\n",
    "da[11] -= (-2)\n",
    "\n",
    "a[0] = da[0]\n",
    "\n",
    "for i in range(1, (len(da) - 1)):\n",
    "    a[i] = a[i - 1] + da[i]\n",
    "\n",
    "\n",
    "\n",
    "print(a) "
   ]
  }
 ],
 "metadata": {
  "kernelspec": {
   "display_name": "Python 3",
   "language": "python",
   "name": "python3"
  },
  "language_info": {
   "codemirror_mode": {
    "name": "ipython",
    "version": 3
   },
   "file_extension": ".py",
   "mimetype": "text/x-python",
   "name": "python",
   "nbconvert_exporter": "python",
   "pygments_lexer": "ipython3",
   "version": "3.11.1"
  }
 },
 "nbformat": 4,
 "nbformat_minor": 2
}
